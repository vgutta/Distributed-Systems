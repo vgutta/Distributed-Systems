{
 "cells": [
  {
   "cell_type": "code",
   "execution_count": 1,
   "metadata": {
    "collapsed": true
   },
   "outputs": [],
   "source": [
    "# to configure spark with Jupyter notebooks\n",
    "# run `pyspark --master local[2]`\n",
    "# if that does not work\n",
    "# run `source ~/.bashrc` before running the above command"
   ]
  },
  {
   "cell_type": "code",
   "execution_count": 2,
   "metadata": {},
   "outputs": [],
   "source": [
    "booksPath = 'file:///Users/Vineeth/Desktop/ML/Spark/Books.txt'\n",
    "charactersPath = 'file:///Users/Vineeth/Desktop/ML/Spark/Characters.txt'\n",
    "edgesPath = 'file:///Users/Vineeth/Desktop/ML/Spark/Edges.txt'"
   ]
  },
  {
   "cell_type": "code",
   "execution_count": 3,
   "metadata": {},
   "outputs": [],
   "source": [
    "books = sc.textFile(booksPath)\n",
    "characters = sc.textFile(charactersPath)\n",
    "edges = sc.textFile(edgesPath)"
   ]
  },
  {
   "cell_type": "code",
   "execution_count": 4,
   "metadata": {},
   "outputs": [
    {
     "data": {
      "text/plain": [
       "['Vertex 6487: AA2 35',\n",
       " 'Vertex 6488: M/PRM 35',\n",
       " 'Vertex 6489: M/PRM 36',\n",
       " 'Vertex 6490: M/PRM 37',\n",
       " 'Vertex 6491: WI? 9',\n",
       " 'Vertex 6492: AVF 4',\n",
       " 'Vertex 6493: AVF 5',\n",
       " 'Vertex 6494: H2 251',\n",
       " 'Vertex 6495: H2 252',\n",
       " 'Vertex 6496: COC 1']"
      ]
     },
     "execution_count": 4,
     "metadata": {},
     "output_type": "execute_result"
    }
   ],
   "source": [
    "books.take(10)"
   ]
  },
  {
   "cell_type": "code",
   "execution_count": 5,
   "metadata": {},
   "outputs": [
    {
     "data": {
      "text/plain": [
       "['Vertex 1: 24-HOUR MAN/EMMANUEL',\n",
       " 'Vertex 2: 3-D MAN/CHARLES CHANDLER & HAROLD CHANDLER',\n",
       " 'Vertex 3: 4-D MAN/MERCURIO',\n",
       " 'Vertex 4: 8-BALL/',\n",
       " 'Vertex 5: A',\n",
       " \"Vertex 6: A'YIN\",\n",
       " 'Vertex 7: ABBOTT, JACK',\n",
       " 'Vertex 8: ABCISSA',\n",
       " 'Vertex 9: ABEL',\n",
       " 'Vertex 10: ABOMINATION/EMIL BLONSKY']"
      ]
     },
     "execution_count": 5,
     "metadata": {},
     "output_type": "execute_result"
    }
   ],
   "source": [
    "characters.take(10)"
   ]
  },
  {
   "cell_type": "code",
   "execution_count": 6,
   "metadata": {},
   "outputs": [
    {
     "data": {
      "text/plain": [
       "['*Vertices 19428 6486',\n",
       " '1 \"24-HOUR MAN/EMMANUEL\"',\n",
       " '2 \"3-D MAN/CHARLES CHAN\"',\n",
       " '3 \"4-D MAN/MERCURIO\"',\n",
       " '4 \"8-BALL/\"',\n",
       " '5 \"A\"',\n",
       " '6 \"A\\'YIN\"',\n",
       " '7 \"ABBOTT, JACK\"',\n",
       " '8 \"ABCISSA\"',\n",
       " '9 \"ABEL\"',\n",
       " '10 \"ABOMINATION/EMIL BLO\"',\n",
       " '11 \"ABOMINATION | MUTANT\"',\n",
       " '12 \"ABOMINATRIX\"',\n",
       " '13 \"ABRAXAS\"',\n",
       " '14 \"ADAM 3,031\"',\n",
       " '15 \"ABSALOM\"',\n",
       " '16 \"ABSORBING MAN/CARL C\"',\n",
       " '17 \"ABSORBING MAN | MUTA\"',\n",
       " '18 \"ACBA\"',\n",
       " '19 \"ACHEBE, REVEREND DOC\"']"
      ]
     },
     "execution_count": 6,
     "metadata": {},
     "output_type": "execute_result"
    }
   ],
   "source": [
    "edges.take(20)"
   ]
  },
  {
   "cell_type": "code",
   "execution_count": 7,
   "metadata": {
    "collapsed": true
   },
   "outputs": [],
   "source": [
    "def edgesFilter(row):\n",
    "    if '*' in row or '\"' in row:\n",
    "        return False\n",
    "    else:\n",
    "        return True\n",
    "\n",
    "edgesFiltered = edges.filter(edgesFilter)"
   ]
  },
  {
   "cell_type": "code",
   "execution_count": 8,
   "metadata": {},
   "outputs": [
    {
     "data": {
      "text/plain": [
       "['1 6487',\n",
       " '2 6488 6489 6490 6491 6492 6493 6494 6495 6496',\n",
       " '3 6497 6498 6499 6500 6501 6502 6503 6504 6505',\n",
       " '4 6506 6507 6508',\n",
       " '5 6509 6510 6511',\n",
       " '6 6512 6513 6514 6515',\n",
       " '7 6516',\n",
       " '8 6517 6518',\n",
       " '9 6519 6520',\n",
       " '10 6521 6522 6523 6524 6525 6526 6527 6528 6529 6530 6531 6532 6533 6534 6535']"
      ]
     },
     "execution_count": 8,
     "metadata": {},
     "output_type": "execute_result"
    }
   ],
   "source": [
    "edgesFiltered.take(10)"
   ]
  },
  {
   "cell_type": "code",
   "execution_count": 9,
   "metadata": {
    "collapsed": true
   },
   "outputs": [],
   "source": [
    "# important characters"
   ]
  },
  {
   "cell_type": "code",
   "execution_count": 12,
   "metadata": {},
   "outputs": [
    {
     "data": {
      "text/plain": [
       "[('1', ['6487']),\n",
       " ('2',\n",
       "  ['6488', '6489', '6490', '6491', '6492', '6493', '6494', '6495', '6496']),\n",
       " ('3',\n",
       "  ['6497', '6498', '6499', '6500', '6501', '6502', '6503', '6504', '6505']),\n",
       " ('4', ['6506', '6507', '6508']),\n",
       " ('5', ['6509', '6510', '6511']),\n",
       " ('6', ['6512', '6513', '6514', '6515']),\n",
       " ('7', ['6516']),\n",
       " ('8', ['6517', '6518']),\n",
       " ('9', ['6519', '6520']),\n",
       " ('10',\n",
       "  ['6521',\n",
       "   '6522',\n",
       "   '6523',\n",
       "   '6524',\n",
       "   '6525',\n",
       "   '6526',\n",
       "   '6527',\n",
       "   '6528',\n",
       "   '6529',\n",
       "   '6530',\n",
       "   '6531',\n",
       "   '6532',\n",
       "   '6533',\n",
       "   '6534',\n",
       "   '6535'])]"
      ]
     },
     "execution_count": 12,
     "metadata": {},
     "output_type": "execute_result"
    }
   ],
   "source": [
    "characterBookMap = edgesFiltered.map(lambda x: x.split())\\\n",
    "                    .map(lambda x: (x[0],x[1:]))\n",
    "characterBookMap.take(10)"
   ]
  },
  {
   "cell_type": "code",
   "execution_count": 13,
   "metadata": {
    "collapsed": true
   },
   "outputs": [],
   "source": [
    "def charParse(row):\n",
    "    row = row.split(\":\")\n",
    "    return (row[0][7:], row[1].strip())\n",
    "\n",
    "characterLookup = characters.map(charParse).collectAsMap()"
   ]
  },
  {
   "cell_type": "code",
   "execution_count": 16,
   "metadata": {},
   "outputs": [
    {
     "data": {
      "text/plain": [
       "[('SPIDER-MAN/PETER PARKER', 1625),\n",
       " ('CAPTAIN AMERICA', 1367),\n",
       " ('IRON MAN/TONY STARK', 1168),\n",
       " ('THING/BENJAMIN J. GRIMM', 990),\n",
       " ('THOR/DR. DONALD BLAKE/SIGURD JARLSON II/JAKE OLSON/LOREN OLSON', 965),\n",
       " ('HUMAN TORCH/JOHNNY STORM', 908),\n",
       " ('MR. FANTASTIC/REED RICHARDS', 875),\n",
       " ('HULK/DR. ROBERT BRUCE BANNER', 841),\n",
       " ('WOLVERINE/LOGAN', 820),\n",
       " ('INVISIBLE WOMAN/SUE STORM RICHARDS', 782)]"
      ]
     },
     "execution_count": 16,
     "metadata": {},
     "output_type": "execute_result"
    }
   ],
   "source": [
    "characterStrength = characterBookMap.mapValues(lambda x: len(x))\\\n",
    "                    .map(lambda x: (characterLookup[x[0]],x[1]))\\\n",
    "                    .reduceByKey(lambda x,y: x+y)\\\n",
    "                    .sortBy(lambda x: -x[1])\n",
    "characterStrength.take(10)"
   ]
  },
  {
   "cell_type": "code",
   "execution_count": 17,
   "metadata": {
    "collapsed": true
   },
   "outputs": [],
   "source": [
    "# co-occurrence network"
   ]
  },
  {
   "cell_type": "code",
   "execution_count": 22,
   "metadata": {},
   "outputs": [],
   "source": [
    "bookCharacterMap = characterBookMap.flatMapValues(lambda x: x)\\\n",
    "                                    .map(lambda x: (x[1],x[0]))\\\n",
    "                                    .reduceByKey(lambda x,y: x+\",\"+y)\\\n",
    "                                    .mapValues(lambda x: x.split(\",\"))\n"
   ]
  },
  {
   "cell_type": "code",
   "execution_count": 23,
   "metadata": {
    "collapsed": true
   },
   "outputs": [],
   "source": [
    "import itertools"
   ]
  },
  {
   "cell_type": "code",
   "execution_count": 24,
   "metadata": {
    "collapsed": true
   },
   "outputs": [],
   "source": [
    "cooccurrenceMap = bookCharacterMap.flatMap(lambda x: list(itertools.combinations(x[1], 2)))"
   ]
  },
  {
   "cell_type": "code",
   "execution_count": 26,
   "metadata": {},
   "outputs": [
    {
     "data": {
      "text/plain": [
       "[('2', '154'),\n",
       " ('2', '859'),\n",
       " ('2', '2186'),\n",
       " ('2', '2399'),\n",
       " ('2', '2555'),\n",
       " ('2', '3035'),\n",
       " ('2', '3491'),\n",
       " ('2', '4228'),\n",
       " ('2', '6022'),\n",
       " ('2', '6148')]"
      ]
     },
     "execution_count": 26,
     "metadata": {},
     "output_type": "execute_result"
    }
   ],
   "source": [
    "cooccurrenceMap.take(10)"
   ]
  },
  {
   "cell_type": "code",
   "execution_count": 27,
   "metadata": {},
   "outputs": [
    {
     "data": {
      "text/plain": [
       "[(('2', '859'), 3),\n",
       " (('2', '2399'), 3),\n",
       " (('2', '2555'), 3),\n",
       " (('2', '3035'), 4),\n",
       " (('154', '2186'), 2),\n",
       " (('154', '3491'), 2),\n",
       " (('154', '4228'), 41),\n",
       " (('154', '6022'), 2),\n",
       " (('154', '6148'), 406),\n",
       " (('859', '2399'), 322)]"
      ]
     },
     "execution_count": 27,
     "metadata": {},
     "output_type": "execute_result"
    }
   ],
   "source": [
    "cooccurrenceStrength = cooccurrenceMap.map(lambda x: (x,1))\\\n",
    "                                        .reduceByKey(lambda x,y: x+y)\n",
    "cooccurrenceStrength.take(10)"
   ]
  },
  {
   "cell_type": "code",
   "execution_count": 28,
   "metadata": {},
   "outputs": [
    {
     "data": {
      "text/plain": [
       "[('2', '859', 3),\n",
       " ('2', '2399', 3),\n",
       " ('2', '2555', 3),\n",
       " ('2', '3035', 4),\n",
       " ('154', '2186', 2),\n",
       " ('154', '3491', 2),\n",
       " ('154', '4228', 41),\n",
       " ('154', '6022', 2),\n",
       " ('154', '6148', 406),\n",
       " ('859', '2399', 322)]"
      ]
     },
     "execution_count": 28,
     "metadata": {},
     "output_type": "execute_result"
    }
   ],
   "source": [
    "cooccurrenceEdges = cooccurrenceStrength.map(lambda x: (x[0][0], x[0][1], x[1]))\n",
    "cooccurrenceEdges.take(10)"
   ]
  },
  {
   "cell_type": "code",
   "execution_count": 29,
   "metadata": {
    "collapsed": true
   },
   "outputs": [],
   "source": [
    "# understanding and modeling relationships"
   ]
  },
  {
   "cell_type": "code",
   "execution_count": 30,
   "metadata": {
    "collapsed": true
   },
   "outputs": [],
   "source": [
    "sortedCooccurrence = cooccurrenceEdges.sortBy(lambda x: -x[2])\\\n",
    "                                    .map(lambda x: (characterLookup[x[0]], characterLookup[x[1]],x[2]))"
   ]
  },
  {
   "cell_type": "code",
   "execution_count": 31,
   "metadata": {},
   "outputs": [
    {
     "data": {
      "text/plain": [
       "[('HUMAN TORCH/JOHNNY STORM', 'THING/BENJAMIN J. GRIMM', 744),\n",
       " ('HUMAN TORCH/JOHNNY STORM', 'MR. FANTASTIC/REED RICHARDS', 713),\n",
       " ('MR. FANTASTIC/REED RICHARDS', 'THING/BENJAMIN J. GRIMM', 708),\n",
       " ('INVISIBLE WOMAN/SUE STORM RICHARDS', 'MR. FANTASTIC/REED RICHARDS', 701),\n",
       " ('HUMAN TORCH/JOHNNY STORM', 'INVISIBLE WOMAN/SUE STORM RICHARDS', 694),\n",
       " ('INVISIBLE WOMAN/SUE STORM RICHARDS', 'THING/BENJAMIN J. GRIMM', 668),\n",
       " ('SPIDER-MAN/PETER PARKER', 'WATSON-PARKER, MARY JANE', 616),\n",
       " ('JAMESON, J. JONAH', 'SPIDER-MAN/PETER PARKER', 526),\n",
       " ('CAPTAIN AMERICA', 'IRON MAN/TONY STARK', 446),\n",
       " ('SCARLET WITCH/WANDA MAXIMOFF', 'VISION', 422)]"
      ]
     },
     "execution_count": 31,
     "metadata": {},
     "output_type": "execute_result"
    }
   ],
   "source": [
    "sortedCooccurrence.take(10)"
   ]
  },
  {
   "cell_type": "code",
   "execution_count": 32,
   "metadata": {},
   "outputs": [
    {
     "data": {
      "text/plain": [
       "[('SPIDER-MAN/PETER PARKER', 'WATSON-PARKER, MARY JANE', 616),\n",
       " ('JAMESON, J. JONAH', 'SPIDER-MAN/PETER PARKER', 526),\n",
       " ('PARKER, MAY', 'SPIDER-MAN/PETER PARKER', 380),\n",
       " ('ROBERTSON, JOE', 'SPIDER-MAN/PETER PARKER', 356),\n",
       " ('LEEDS, BETTY BRANT', 'SPIDER-MAN/PETER PARKER', 249),\n",
       " ('SPIDER-MAN/PETER PARKER', 'THOMPSON, EUGENE FLASH', 240),\n",
       " ('OSBORN, HARRY', 'SPIDER-MAN/PETER PARKER', 181),\n",
       " ('HUMAN TORCH/JOHNNY STORM', 'SPIDER-MAN/PETER PARKER', 147),\n",
       " ('CAPTAIN AMERICA', 'SPIDER-MAN/PETER PARKER', 145),\n",
       " ('OSBORN, LIZ ALLAN', 'SPIDER-MAN/PETER PARKER', 138)]"
      ]
     },
     "execution_count": 32,
     "metadata": {},
     "output_type": "execute_result"
    }
   ],
   "source": [
    "sortedCooccurrence.filter(lambda x: 'SPIDER-MAN/PETER PARKER' in x)\\\n",
    "                    .take(10)\n"
   ]
  },
  {
   "cell_type": "code",
   "execution_count": 33,
   "metadata": {},
   "outputs": [
    {
     "data": {
      "text/plain": [
       "[('CAPTAIN AMERICA', 'IRON MAN/TONY STARK', 446),\n",
       " ('CAPTAIN AMERICA',\n",
       "  'THOR/DR. DONALD BLAKE/SIGURD JARLSON II/JAKE OLSON/LOREN OLSON',\n",
       "  386),\n",
       " ('CAPTAIN AMERICA', 'VISION', 385),\n",
       " ('CAPTAIN AMERICA', 'WASP/JANET VAN DYNE PYM', 384),\n",
       " ('CAPTAIN AMERICA', 'SCARLET WITCH/WANDA MAXIMOFF', 374),\n",
       " ('CAPTAIN AMERICA', 'HAWK', 322),\n",
       " ('ANT-MAN/DR. HENRY J. PYM', 'CAPTAIN AMERICA', 295),\n",
       " ('CAPTAIN AMERICA', 'JARVIS, EDWIN', 244),\n",
       " ('CAPTAIN AMERICA', 'WONDER MAN/SIMON WILLIAMS', 216),\n",
       " ('CAPTAIN AMERICA', 'FALCON/SAM WILSON', 189)]"
      ]
     },
     "execution_count": 33,
     "metadata": {},
     "output_type": "execute_result"
    }
   ],
   "source": [
    "sortedCooccurrence.filter(lambda x: 'CAPTAIN AMERICA' in x).take(10)"
   ]
  },
  {
   "cell_type": "code",
   "execution_count": 34,
   "metadata": {},
   "outputs": [
    {
     "data": {
      "text/plain": [
       "(count: 168267, mean: 3.386106604384635, stdev: 10.9184820652, max: 744.0, min: 1.0)"
      ]
     },
     "execution_count": 34,
     "metadata": {},
     "output_type": "execute_result"
    }
   ],
   "source": [
    "sortedCooccurrence.map(lambda x: x[2]).stats()"
   ]
  },
  {
   "cell_type": "code",
   "execution_count": 38,
   "metadata": {},
   "outputs": [
    {
     "data": {
      "text/plain": [
       "defaultdict(int,\n",
       "            {0: 159249,\n",
       "             1: 5621,\n",
       "             2: 1405,\n",
       "             3: 641,\n",
       "             4: 375,\n",
       "             5: 218,\n",
       "             6: 162,\n",
       "             7: 126,\n",
       "             8: 82,\n",
       "             9: 78,\n",
       "             10: 44,\n",
       "             11: 41,\n",
       "             12: 45,\n",
       "             13: 17,\n",
       "             14: 19,\n",
       "             15: 16,\n",
       "             16: 11,\n",
       "             17: 7,\n",
       "             18: 17,\n",
       "             19: 3,\n",
       "             20: 9,\n",
       "             21: 5,\n",
       "             22: 5,\n",
       "             23: 6,\n",
       "             24: 7,\n",
       "             25: 5,\n",
       "             26: 8,\n",
       "             27: 3,\n",
       "             28: 2,\n",
       "             29: 5,\n",
       "             30: 7,\n",
       "             31: 2,\n",
       "             32: 1,\n",
       "             33: 3,\n",
       "             34: 2,\n",
       "             35: 1,\n",
       "             37: 2,\n",
       "             38: 5,\n",
       "             39: 1,\n",
       "             40: 1,\n",
       "             42: 1,\n",
       "             44: 1,\n",
       "             52: 1,\n",
       "             61: 1,\n",
       "             66: 1,\n",
       "             69: 1,\n",
       "             70: 2,\n",
       "             71: 1,\n",
       "             74: 1})"
      ]
     },
     "execution_count": 38,
     "metadata": {},
     "output_type": "execute_result"
    }
   ],
   "source": [
    "sortedCooccurrence.map(lambda x: int(x[2]/10)).countByValue()"
   ]
  },
  {
   "cell_type": "code",
   "execution_count": 41,
   "metadata": {
    "collapsed": true
   },
   "outputs": [],
   "source": [
    "import networkx as nx\n",
    "G = nx.Graph()"
   ]
  },
  {
   "cell_type": "code",
   "execution_count": 43,
   "metadata": {},
   "outputs": [],
   "source": [
    "edges = sortedCooccurrence.map(lambda x: (x[0],x[1],{'weight':1000/x[2]})).take(50)"
   ]
  },
  {
   "cell_type": "code",
   "execution_count": 44,
   "metadata": {
    "collapsed": true
   },
   "outputs": [],
   "source": [
    "G.add_edges_from(edges)"
   ]
  },
  {
   "cell_type": "code",
   "execution_count": 45,
   "metadata": {},
   "outputs": [
    {
     "data": {
      "image/png": "[encoded data removed]",
      "text/plain": [
       "<matplotlib.figure.Figure at 0x112940588>"
      ]
     },
     "metadata": {},
     "output_type": "display_data"
    }
   ],
   "source": [
    "import matplotlib.pyplot as plt\n",
    "nx.draw_networkx(G, pos=nx.spring_layout(G))\n",
    "plt.show()"
   ]
  }
 ],
 "metadata": {
  "kernelspec": {
   "display_name": "Python 3",
   "language": "python",
   "name": "python3"
  },
  "language_info": {
   "codemirror_mode": {
    "name": "ipython",
    "version": 3
   },
   "file_extension": ".py",
   "mimetype": "text/x-python",
   "name": "python",
   "nbconvert_exporter": "python",
   "pygments_lexer": "ipython3",
   "version": "3.6.1"
  }
 },
 "nbformat": 4,
 "nbformat_minor": 2
}
